{
 "cells": [
  {
   "cell_type": "code",
   "execution_count": 1,
   "id": "2b244c73",
   "metadata": {},
   "outputs": [],
   "source": [
    "## importing essential libraries\n",
    "\n",
    "import pandas as pd\n",
    "import numpy as np\n"
   ]
  },
  {
   "cell_type": "code",
   "execution_count": 2,
   "id": "4be80551",
   "metadata": {},
   "outputs": [],
   "source": [
    "## to read csv file\n",
    "\n",
    "file_path = r'C:\\Users\\suraj\\Downloads\\Amazon_Reviews.csv'\n",
    "\n",
    "df = pd.read_csv(file_path, encoding='ISO-8859-1')"
   ]
  },
  {
   "cell_type": "code",
   "execution_count": 3,
   "id": "b8ab017a",
   "metadata": {},
   "outputs": [
    {
     "data": {
      "text/html": [
       "<div>\n",
       "<style scoped>\n",
       "    .dataframe tbody tr th:only-of-type {\n",
       "        vertical-align: middle;\n",
       "    }\n",
       "\n",
       "    .dataframe tbody tr th {\n",
       "        vertical-align: top;\n",
       "    }\n",
       "\n",
       "    .dataframe thead th {\n",
       "        text-align: right;\n",
       "    }\n",
       "</style>\n",
       "<table border=\"1\" class=\"dataframe\">\n",
       "  <thead>\n",
       "    <tr style=\"text-align: right;\">\n",
       "      <th></th>\n",
       "      <th>Name</th>\n",
       "      <th>Place</th>\n",
       "      <th>Job_type</th>\n",
       "      <th>Department</th>\n",
       "      <th>Date</th>\n",
       "      <th>Overall_rating</th>\n",
       "      <th>work_life_balance</th>\n",
       "      <th>skill_development</th>\n",
       "      <th>salary_and_benefits</th>\n",
       "      <th>job_security</th>\n",
       "      <th>career_growth</th>\n",
       "      <th>work_satisfaction</th>\n",
       "      <th>Likes</th>\n",
       "      <th>Dislikes</th>\n",
       "    </tr>\n",
       "  </thead>\n",
       "  <tbody>\n",
       "    <tr>\n",
       "      <th>0</th>\n",
       "      <td>Software Development Engineer</td>\n",
       "      <td>Hyderabad/Secunderabad</td>\n",
       "      <td>Full Time</td>\n",
       "      <td>Software Development Department</td>\n",
       "      <td>8 Aug 2023</td>\n",
       "      <td>2.0</td>\n",
       "      <td>1.0</td>\n",
       "      <td>2.0</td>\n",
       "      <td>5.0</td>\n",
       "      <td>1.0</td>\n",
       "      <td>3.0</td>\n",
       "      <td>3.0</td>\n",
       "      <td>The office is great and you have best in indus...</td>\n",
       "      <td>Worst work life balance.\\nThe managers have to...</td>\n",
       "    </tr>\n",
       "    <tr>\n",
       "      <th>1</th>\n",
       "      <td>Dls Case Specialist II HR Assistant</td>\n",
       "      <td>Hyderabad/Secunderabad</td>\n",
       "      <td>Full Time</td>\n",
       "      <td>HR Operations Department</td>\n",
       "      <td>8 Aug 2023</td>\n",
       "      <td>1.0</td>\n",
       "      <td>5.0</td>\n",
       "      <td>1.0</td>\n",
       "      <td>3.0</td>\n",
       "      <td>1.0</td>\n",
       "      <td>2.0</td>\n",
       "      <td>1.0</td>\n",
       "      <td>Good work life balance and team building exerc...</td>\n",
       "      <td>No job security. They will cut you out any-day...</td>\n",
       "    </tr>\n",
       "    <tr>\n",
       "      <th>2</th>\n",
       "      <td>Customer Support Associate   (working remotely)</td>\n",
       "      <td>NaN</td>\n",
       "      <td>Full Time</td>\n",
       "      <td>Customer Success Department</td>\n",
       "      <td>8 Aug 2023</td>\n",
       "      <td>1.0</td>\n",
       "      <td>2.0</td>\n",
       "      <td>1.0</td>\n",
       "      <td>2.0</td>\n",
       "      <td>1.0</td>\n",
       "      <td>2.0</td>\n",
       "      <td>3.0</td>\n",
       "      <td>good about this company, provides virtual roles</td>\n",
       "      <td>this company is really bad , no job security ,...</td>\n",
       "    </tr>\n",
       "    <tr>\n",
       "      <th>3</th>\n",
       "      <td>Sds Associate   (working remotely)</td>\n",
       "      <td>NaN</td>\n",
       "      <td>Full Time</td>\n",
       "      <td>Non Voice Department</td>\n",
       "      <td>7 Aug 2023</td>\n",
       "      <td>2.0</td>\n",
       "      <td>3.0</td>\n",
       "      <td>2.0</td>\n",
       "      <td>2.0</td>\n",
       "      <td>2.0</td>\n",
       "      <td>2.0</td>\n",
       "      <td>2.0</td>\n",
       "      <td>Leaves are there but more than policy it will ...</td>\n",
       "      <td>To be honest there are Many consumer team but ...</td>\n",
       "    </tr>\n",
       "    <tr>\n",
       "      <th>4</th>\n",
       "      <td>Software Developer</td>\n",
       "      <td>Bengaluru/Bangalore, Karnataka</td>\n",
       "      <td>Full Time</td>\n",
       "      <td>Software Development Department</td>\n",
       "      <td>7 Aug 2023</td>\n",
       "      <td>4.0</td>\n",
       "      <td>3.0</td>\n",
       "      <td>4.0</td>\n",
       "      <td>5.0</td>\n",
       "      <td>3.0</td>\n",
       "      <td>4.0</td>\n",
       "      <td>3.0</td>\n",
       "      <td>Amazon has high standard when it comes to runn...</td>\n",
       "      <td>Management layer has lot of redundancies.</td>\n",
       "    </tr>\n",
       "  </tbody>\n",
       "</table>\n",
       "</div>"
      ],
      "text/plain": [
       "                                              Name   \n",
       "0                    Software Development Engineer  \\\n",
       "1              Dls Case Specialist II HR Assistant   \n",
       "2  Customer Support Associate   (working remotely)   \n",
       "3               Sds Associate   (working remotely)   \n",
       "4                               Software Developer   \n",
       "\n",
       "                            Place   Job_type                       Department   \n",
       "0          Hyderabad/Secunderabad  Full Time  Software Development Department  \\\n",
       "1          Hyderabad/Secunderabad  Full Time         HR Operations Department   \n",
       "2                             NaN  Full Time      Customer Success Department   \n",
       "3                             NaN  Full Time             Non Voice Department   \n",
       "4  Bengaluru/Bangalore, Karnataka  Full Time  Software Development Department   \n",
       "\n",
       "         Date  Overall_rating  work_life_balance  skill_development   \n",
       "0  8 Aug 2023             2.0                1.0                2.0  \\\n",
       "1  8 Aug 2023             1.0                5.0                1.0   \n",
       "2  8 Aug 2023             1.0                2.0                1.0   \n",
       "3  7 Aug 2023             2.0                3.0                2.0   \n",
       "4  7 Aug 2023             4.0                3.0                4.0   \n",
       "\n",
       "   salary_and_benefits  job_security  career_growth  work_satisfaction   \n",
       "0                  5.0           1.0            3.0                3.0  \\\n",
       "1                  3.0           1.0            2.0                1.0   \n",
       "2                  2.0           1.0            2.0                3.0   \n",
       "3                  2.0           2.0            2.0                2.0   \n",
       "4                  5.0           3.0            4.0                3.0   \n",
       "\n",
       "                                               Likes   \n",
       "0  The office is great and you have best in indus...  \\\n",
       "1  Good work life balance and team building exerc...   \n",
       "2    good about this company, provides virtual roles   \n",
       "3  Leaves are there but more than policy it will ...   \n",
       "4  Amazon has high standard when it comes to runn...   \n",
       "\n",
       "                                            Dislikes  \n",
       "0  Worst work life balance.\\nThe managers have to...  \n",
       "1  No job security. They will cut you out any-day...  \n",
       "2  this company is really bad , no job security ,...  \n",
       "3  To be honest there are Many consumer team but ...  \n",
       "4          Management layer has lot of redundancies.  "
      ]
     },
     "execution_count": 3,
     "metadata": {},
     "output_type": "execute_result"
    }
   ],
   "source": [
    "## to see shape of file\n",
    "\n",
    "df.head(5)"
   ]
  },
  {
   "cell_type": "code",
   "execution_count": 4,
   "id": "77fb08ba",
   "metadata": {},
   "outputs": [],
   "source": [
    "## droping unnecessary columns\n",
    "\n",
    "df1=df.drop(['Place','Job_type','Date','Name','Department','Likes','Dislikes'], axis=1)"
   ]
  },
  {
   "cell_type": "code",
   "execution_count": 5,
   "id": "261ef5cb",
   "metadata": {},
   "outputs": [
    {
     "data": {
      "text/html": [
       "<div>\n",
       "<style scoped>\n",
       "    .dataframe tbody tr th:only-of-type {\n",
       "        vertical-align: middle;\n",
       "    }\n",
       "\n",
       "    .dataframe tbody tr th {\n",
       "        vertical-align: top;\n",
       "    }\n",
       "\n",
       "    .dataframe thead th {\n",
       "        text-align: right;\n",
       "    }\n",
       "</style>\n",
       "<table border=\"1\" class=\"dataframe\">\n",
       "  <thead>\n",
       "    <tr style=\"text-align: right;\">\n",
       "      <th></th>\n",
       "      <th>Overall_rating</th>\n",
       "      <th>work_life_balance</th>\n",
       "      <th>skill_development</th>\n",
       "      <th>salary_and_benefits</th>\n",
       "      <th>job_security</th>\n",
       "      <th>career_growth</th>\n",
       "      <th>work_satisfaction</th>\n",
       "    </tr>\n",
       "  </thead>\n",
       "  <tbody>\n",
       "    <tr>\n",
       "      <th>0</th>\n",
       "      <td>2.0</td>\n",
       "      <td>1.0</td>\n",
       "      <td>2.0</td>\n",
       "      <td>5.0</td>\n",
       "      <td>1.0</td>\n",
       "      <td>3.0</td>\n",
       "      <td>3.0</td>\n",
       "    </tr>\n",
       "    <tr>\n",
       "      <th>1</th>\n",
       "      <td>1.0</td>\n",
       "      <td>5.0</td>\n",
       "      <td>1.0</td>\n",
       "      <td>3.0</td>\n",
       "      <td>1.0</td>\n",
       "      <td>2.0</td>\n",
       "      <td>1.0</td>\n",
       "    </tr>\n",
       "    <tr>\n",
       "      <th>2</th>\n",
       "      <td>1.0</td>\n",
       "      <td>2.0</td>\n",
       "      <td>1.0</td>\n",
       "      <td>2.0</td>\n",
       "      <td>1.0</td>\n",
       "      <td>2.0</td>\n",
       "      <td>3.0</td>\n",
       "    </tr>\n",
       "    <tr>\n",
       "      <th>3</th>\n",
       "      <td>2.0</td>\n",
       "      <td>3.0</td>\n",
       "      <td>2.0</td>\n",
       "      <td>2.0</td>\n",
       "      <td>2.0</td>\n",
       "      <td>2.0</td>\n",
       "      <td>2.0</td>\n",
       "    </tr>\n",
       "    <tr>\n",
       "      <th>4</th>\n",
       "      <td>4.0</td>\n",
       "      <td>3.0</td>\n",
       "      <td>4.0</td>\n",
       "      <td>5.0</td>\n",
       "      <td>3.0</td>\n",
       "      <td>4.0</td>\n",
       "      <td>3.0</td>\n",
       "    </tr>\n",
       "  </tbody>\n",
       "</table>\n",
       "</div>"
      ],
      "text/plain": [
       "   Overall_rating  work_life_balance  skill_development  salary_and_benefits   \n",
       "0             2.0                1.0                2.0                  5.0  \\\n",
       "1             1.0                5.0                1.0                  3.0   \n",
       "2             1.0                2.0                1.0                  2.0   \n",
       "3             2.0                3.0                2.0                  2.0   \n",
       "4             4.0                3.0                4.0                  5.0   \n",
       "\n",
       "   job_security  career_growth  work_satisfaction  \n",
       "0           1.0            3.0                3.0  \n",
       "1           1.0            2.0                1.0  \n",
       "2           1.0            2.0                3.0  \n",
       "3           2.0            2.0                2.0  \n",
       "4           3.0            4.0                3.0  "
      ]
     },
     "execution_count": 5,
     "metadata": {},
     "output_type": "execute_result"
    }
   ],
   "source": [
    "df1.head(5)"
   ]
  },
  {
   "cell_type": "code",
   "execution_count": 6,
   "id": "e00d19d2",
   "metadata": {},
   "outputs": [],
   "source": [
    "## importing graph essential libraries\n",
    "\n",
    "import matplotlib.pyplot as plt\n",
    "import seaborn as sns"
   ]
  },
  {
   "cell_type": "code",
   "execution_count": 7,
   "id": "17645a89",
   "metadata": {},
   "outputs": [
    {
     "data": {
      "text/plain": [
       "<Axes: xlabel='Overall_rating', ylabel='count'>"
      ]
     },
     "execution_count": 7,
     "metadata": {},
     "output_type": "execute_result"
    },
    {
     "data": {
      "image/png": "[encoded data removed]",
      "text/plain": [
       "<Figure size 640x480 with 1 Axes>"
      ]
     },
     "metadata": {},
     "output_type": "display_data"
    }
   ],
   "source": [
    "## to see count of overall rating column\n",
    "\n",
    "sns.countplot(data=df1,\n",
    "              x='Overall_rating',\n",
    "              order=df1.Overall_rating.value_counts().index)"
   ]
  },
  {
   "cell_type": "code",
   "execution_count": 9,
   "id": "0805a44f",
   "metadata": {},
   "outputs": [],
   "source": [
    "## importing as dataframe\n",
    "df2 = pd.DataFrame(df1)\n",
    "correlation_matrix = df2.corr()\n"
   ]
  },
  {
   "cell_type": "code",
   "execution_count": 10,
   "id": "728980cc",
   "metadata": {},
   "outputs": [
    {
     "data": {
      "image/png": "[encoded data removed]",
      "text/plain": [
       "<Figure size 1000x600 with 2 Axes>"
      ]
     },
     "metadata": {},
     "output_type": "display_data"
    }
   ],
   "source": [
    "## this is Correlation Heatmap to check dependent features\n",
    "\n",
    "plt.figure(figsize=(10, 6))\n",
    "sns.heatmap(correlation_matrix, annot=True, cmap='coolwarm', center=0)\n",
    "plt.title('Correlation Heatmap')\n",
    "plt.show()"
   ]
  },
  {
   "cell_type": "code",
   "execution_count": 11,
   "id": "e3ab15e6",
   "metadata": {},
   "outputs": [],
   "source": [
    "## dropping unnecessary columns\n",
    "\n",
    "df3=df.drop(['Place','Job_type','Date','Name','Department','Overall_rating','work_life_balance','skill_development','salary_and_benefits','job_security','career_growth','work_satisfaction'], axis=1)"
   ]
  },
  {
   "cell_type": "code",
   "execution_count": 12,
   "id": "0f5fb487",
   "metadata": {},
   "outputs": [
    {
     "data": {
      "text/html": [
       "<div>\n",
       "<style scoped>\n",
       "    .dataframe tbody tr th:only-of-type {\n",
       "        vertical-align: middle;\n",
       "    }\n",
       "\n",
       "    .dataframe tbody tr th {\n",
       "        vertical-align: top;\n",
       "    }\n",
       "\n",
       "    .dataframe thead th {\n",
       "        text-align: right;\n",
       "    }\n",
       "</style>\n",
       "<table border=\"1\" class=\"dataframe\">\n",
       "  <thead>\n",
       "    <tr style=\"text-align: right;\">\n",
       "      <th></th>\n",
       "      <th>Likes</th>\n",
       "      <th>Dislikes</th>\n",
       "    </tr>\n",
       "  </thead>\n",
       "  <tbody>\n",
       "    <tr>\n",
       "      <th>0</th>\n",
       "      <td>The office is great and you have best in indus...</td>\n",
       "      <td>Worst work life balance.\\nThe managers have to...</td>\n",
       "    </tr>\n",
       "    <tr>\n",
       "      <th>1</th>\n",
       "      <td>Good work life balance and team building exerc...</td>\n",
       "      <td>No job security. They will cut you out any-day...</td>\n",
       "    </tr>\n",
       "    <tr>\n",
       "      <th>2</th>\n",
       "      <td>good about this company, provides virtual roles</td>\n",
       "      <td>this company is really bad , no job security ,...</td>\n",
       "    </tr>\n",
       "    <tr>\n",
       "      <th>3</th>\n",
       "      <td>Leaves are there but more than policy it will ...</td>\n",
       "      <td>To be honest there are Many consumer team but ...</td>\n",
       "    </tr>\n",
       "    <tr>\n",
       "      <th>4</th>\n",
       "      <td>Amazon has high standard when it comes to runn...</td>\n",
       "      <td>Management layer has lot of redundancies.</td>\n",
       "    </tr>\n",
       "  </tbody>\n",
       "</table>\n",
       "</div>"
      ],
      "text/plain": [
       "                                               Likes   \n",
       "0  The office is great and you have best in indus...  \\\n",
       "1  Good work life balance and team building exerc...   \n",
       "2    good about this company, provides virtual roles   \n",
       "3  Leaves are there but more than policy it will ...   \n",
       "4  Amazon has high standard when it comes to runn...   \n",
       "\n",
       "                                            Dislikes  \n",
       "0  Worst work life balance.\\nThe managers have to...  \n",
       "1  No job security. They will cut you out any-day...  \n",
       "2  this company is really bad , no job security ,...  \n",
       "3  To be honest there are Many consumer team but ...  \n",
       "4          Management layer has lot of redundancies.  "
      ]
     },
     "execution_count": 12,
     "metadata": {},
     "output_type": "execute_result"
    }
   ],
   "source": [
    "df3.head(5)"
   ]
  },
  {
   "cell_type": "code",
   "execution_count": 15,
   "id": "4b97adab",
   "metadata": {},
   "outputs": [],
   "source": [
    "# Combine the text data from both columns\n",
    "\n",
    "df3['text'] = df3['Likes'] + ' ' + df3['Dislikes']"
   ]
  },
  {
   "cell_type": "code",
   "execution_count": 16,
   "id": "f14d0259",
   "metadata": {},
   "outputs": [
    {
     "data": {
      "text/html": [
       "<div>\n",
       "<style scoped>\n",
       "    .dataframe tbody tr th:only-of-type {\n",
       "        vertical-align: middle;\n",
       "    }\n",
       "\n",
       "    .dataframe tbody tr th {\n",
       "        vertical-align: top;\n",
       "    }\n",
       "\n",
       "    .dataframe thead th {\n",
       "        text-align: right;\n",
       "    }\n",
       "</style>\n",
       "<table border=\"1\" class=\"dataframe\">\n",
       "  <thead>\n",
       "    <tr style=\"text-align: right;\">\n",
       "      <th></th>\n",
       "      <th>Likes</th>\n",
       "      <th>Dislikes</th>\n",
       "      <th>text</th>\n",
       "    </tr>\n",
       "  </thead>\n",
       "  <tbody>\n",
       "    <tr>\n",
       "      <th>0</th>\n",
       "      <td>The office is great and you have best in indus...</td>\n",
       "      <td>Worst work life balance.\\nThe managers have to...</td>\n",
       "      <td>The office is great and you have best in indus...</td>\n",
       "    </tr>\n",
       "    <tr>\n",
       "      <th>1</th>\n",
       "      <td>Good work life balance and team building exerc...</td>\n",
       "      <td>No job security. They will cut you out any-day...</td>\n",
       "      <td>Good work life balance and team building exerc...</td>\n",
       "    </tr>\n",
       "    <tr>\n",
       "      <th>2</th>\n",
       "      <td>good about this company, provides virtual roles</td>\n",
       "      <td>this company is really bad , no job security ,...</td>\n",
       "      <td>good about this company, provides virtual role...</td>\n",
       "    </tr>\n",
       "    <tr>\n",
       "      <th>3</th>\n",
       "      <td>Leaves are there but more than policy it will ...</td>\n",
       "      <td>To be honest there are Many consumer team but ...</td>\n",
       "      <td>Leaves are there but more than policy it will ...</td>\n",
       "    </tr>\n",
       "    <tr>\n",
       "      <th>4</th>\n",
       "      <td>Amazon has high standard when it comes to runn...</td>\n",
       "      <td>Management layer has lot of redundancies.</td>\n",
       "      <td>Amazon has high standard when it comes to runn...</td>\n",
       "    </tr>\n",
       "  </tbody>\n",
       "</table>\n",
       "</div>"
      ],
      "text/plain": [
       "                                               Likes   \n",
       "0  The office is great and you have best in indus...  \\\n",
       "1  Good work life balance and team building exerc...   \n",
       "2    good about this company, provides virtual roles   \n",
       "3  Leaves are there but more than policy it will ...   \n",
       "4  Amazon has high standard when it comes to runn...   \n",
       "\n",
       "                                            Dislikes   \n",
       "0  Worst work life balance.\\nThe managers have to...  \\\n",
       "1  No job security. They will cut you out any-day...   \n",
       "2  this company is really bad , no job security ,...   \n",
       "3  To be honest there are Many consumer team but ...   \n",
       "4          Management layer has lot of redundancies.   \n",
       "\n",
       "                                                text  \n",
       "0  The office is great and you have best in indus...  \n",
       "1  Good work life balance and team building exerc...  \n",
       "2  good about this company, provides virtual role...  \n",
       "3  Leaves are there but more than policy it will ...  \n",
       "4  Amazon has high standard when it comes to runn...  "
      ]
     },
     "execution_count": 16,
     "metadata": {},
     "output_type": "execute_result"
    }
   ],
   "source": [
    "df3.head(5)"
   ]
  },
  {
   "cell_type": "code",
   "execution_count": 17,
   "id": "77ed7a5f",
   "metadata": {},
   "outputs": [],
   "source": [
    "# Create sentiment labels based on the \"like\" and \"dislike\" columns\n",
    "## 0+0=0 OR 0+1=1\n",
    "\n",
    "def determine_sentiment(row):\n",
    "    if \"not\" in row['text']:\n",
    "        return 0\n",
    "    elif \"Not\" in row['text']:\n",
    "        return 0\n",
    "    else:\n",
    "        return 1  # Indicating uncertain sentiment"
   ]
  },
  {
   "cell_type": "code",
   "execution_count": 18,
   "id": "bfd4115e",
   "metadata": {},
   "outputs": [],
   "source": [
    "df3['sentiment'] = df3.apply(determine_sentiment, axis=1)"
   ]
  },
  {
   "cell_type": "code",
   "execution_count": 19,
   "id": "e5035551",
   "metadata": {},
   "outputs": [
    {
     "data": {
      "text/html": [
       "<div>\n",
       "<style scoped>\n",
       "    .dataframe tbody tr th:only-of-type {\n",
       "        vertical-align: middle;\n",
       "    }\n",
       "\n",
       "    .dataframe tbody tr th {\n",
       "        vertical-align: top;\n",
       "    }\n",
       "\n",
       "    .dataframe thead th {\n",
       "        text-align: right;\n",
       "    }\n",
       "</style>\n",
       "<table border=\"1\" class=\"dataframe\">\n",
       "  <thead>\n",
       "    <tr style=\"text-align: right;\">\n",
       "      <th></th>\n",
       "      <th>Likes</th>\n",
       "      <th>Dislikes</th>\n",
       "      <th>text</th>\n",
       "      <th>sentiment</th>\n",
       "    </tr>\n",
       "  </thead>\n",
       "  <tbody>\n",
       "    <tr>\n",
       "      <th>0</th>\n",
       "      <td>The office is great and you have best in indus...</td>\n",
       "      <td>Worst work life balance.\\nThe managers have to...</td>\n",
       "      <td>The office is great and you have best in indus...</td>\n",
       "      <td>0</td>\n",
       "    </tr>\n",
       "    <tr>\n",
       "      <th>1</th>\n",
       "      <td>Good work life balance and team building exerc...</td>\n",
       "      <td>No job security. They will cut you out any-day...</td>\n",
       "      <td>Good work life balance and team building exerc...</td>\n",
       "      <td>1</td>\n",
       "    </tr>\n",
       "    <tr>\n",
       "      <th>2</th>\n",
       "      <td>good about this company, provides virtual roles</td>\n",
       "      <td>this company is really bad , no job security ,...</td>\n",
       "      <td>good about this company, provides virtual role...</td>\n",
       "      <td>0</td>\n",
       "    </tr>\n",
       "  </tbody>\n",
       "</table>\n",
       "</div>"
      ],
      "text/plain": [
       "                                               Likes   \n",
       "0  The office is great and you have best in indus...  \\\n",
       "1  Good work life balance and team building exerc...   \n",
       "2    good about this company, provides virtual roles   \n",
       "\n",
       "                                            Dislikes   \n",
       "0  Worst work life balance.\\nThe managers have to...  \\\n",
       "1  No job security. They will cut you out any-day...   \n",
       "2  this company is really bad , no job security ,...   \n",
       "\n",
       "                                                text  sentiment  \n",
       "0  The office is great and you have best in indus...          0  \n",
       "1  Good work life balance and team building exerc...          1  \n",
       "2  good about this company, provides virtual role...          0  "
      ]
     },
     "execution_count": 19,
     "metadata": {},
     "output_type": "execute_result"
    }
   ],
   "source": [
    "df3.head(3)"
   ]
  },
  {
   "cell_type": "code",
   "execution_count": 20,
   "id": "8546b8b1",
   "metadata": {},
   "outputs": [],
   "source": [
    "# Drop the original \"like\" and \"dislike\" columns\n",
    "\n",
    "df4=df3.drop(['Likes','Dislikes'], axis=1)"
   ]
  },
  {
   "cell_type": "code",
   "execution_count": 21,
   "id": "fb5c54db",
   "metadata": {},
   "outputs": [
    {
     "data": {
      "text/html": [
       "<div>\n",
       "<style scoped>\n",
       "    .dataframe tbody tr th:only-of-type {\n",
       "        vertical-align: middle;\n",
       "    }\n",
       "\n",
       "    .dataframe tbody tr th {\n",
       "        vertical-align: top;\n",
       "    }\n",
       "\n",
       "    .dataframe thead th {\n",
       "        text-align: right;\n",
       "    }\n",
       "</style>\n",
       "<table border=\"1\" class=\"dataframe\">\n",
       "  <thead>\n",
       "    <tr style=\"text-align: right;\">\n",
       "      <th></th>\n",
       "      <th>text</th>\n",
       "      <th>sentiment</th>\n",
       "    </tr>\n",
       "  </thead>\n",
       "  <tbody>\n",
       "    <tr>\n",
       "      <th>0</th>\n",
       "      <td>The office is great and you have best in indus...</td>\n",
       "      <td>0</td>\n",
       "    </tr>\n",
       "    <tr>\n",
       "      <th>1</th>\n",
       "      <td>Good work life balance and team building exerc...</td>\n",
       "      <td>1</td>\n",
       "    </tr>\n",
       "  </tbody>\n",
       "</table>\n",
       "</div>"
      ],
      "text/plain": [
       "                                                text  sentiment\n",
       "0  The office is great and you have best in indus...          0\n",
       "1  Good work life balance and team building exerc...          1"
      ]
     },
     "execution_count": 21,
     "metadata": {},
     "output_type": "execute_result"
    }
   ],
   "source": [
    "df4.head(2)"
   ]
  },
  {
   "cell_type": "code",
   "execution_count": 22,
   "id": "adfe6b72",
   "metadata": {},
   "outputs": [],
   "source": [
    "## importing essential libraries\n",
    "\n",
    "from sklearn.model_selection import train_test_split\n",
    "from sklearn.feature_extraction.text import TfidfVectorizer\n",
    "from sklearn.linear_model import LogisticRegression\n",
    "from sklearn.metrics import accuracy_score"
   ]
  },
  {
   "cell_type": "code",
   "execution_count": 24,
   "id": "1142b0e6",
   "metadata": {},
   "outputs": [],
   "source": [
    "# Splitting the dataset\n",
    "X_train, X_test, y_train, y_test = train_test_split(df4['text'], df4['sentiment'], test_size=0.2, random_state=42)"
   ]
  },
  {
   "cell_type": "code",
   "execution_count": 25,
   "id": "6c0f62a2",
   "metadata": {},
   "outputs": [],
   "source": [
    "# TF-IDF vectorization\n",
    "\n",
    "tfidf_vectorizer = TfidfVectorizer()\n",
    "X_train_tfidf = tfidf_vectorizer.fit_transform(X_train)\n",
    "X_test_tfidf = tfidf_vectorizer.transform(X_test)"
   ]
  },
  {
   "cell_type": "code",
   "execution_count": 26,
   "id": "1f5dd708",
   "metadata": {},
   "outputs": [
    {
     "data": {
      "text/html": [
       "<style>#sk-container-id-1 {color: black;}#sk-container-id-1 pre{padding: 0;}#sk-container-id-1 div.sk-toggleable {background-color: white;}#sk-container-id-1 label.sk-toggleable__label {cursor: pointer;display: block;width: 100%;margin-bottom: 0;padding: 0.3em;box-sizing: border-box;text-align: center;}#sk-container-id-1 label.sk-toggleable__label-arrow:before {content: \"▸\";float: left;margin-right: 0.25em;color: #696969;}#sk-container-id-1 label.sk-toggleable__label-arrow:hover:before {color: black;}#sk-container-id-1 div.sk-estimator:hover label.sk-toggleable__label-arrow:before {color: black;}#sk-container-id-1 div.sk-toggleable__content {max-height: 0;max-width: 0;overflow: hidden;text-align: left;background-color: #f0f8ff;}#sk-container-id-1 div.sk-toggleable__content pre {margin: 0.2em;color: black;border-radius: 0.25em;background-color: #f0f8ff;}#sk-container-id-1 input.sk-toggleable__control:checked~div.sk-toggleable__content {max-height: 200px;max-width: 100%;overflow: auto;}#sk-container-id-1 input.sk-toggleable__control:checked~label.sk-toggleable__label-arrow:before {content: \"▾\";}#sk-container-id-1 div.sk-estimator input.sk-toggleable__control:checked~label.sk-toggleable__label {background-color: #d4ebff;}#sk-container-id-1 div.sk-label input.sk-toggleable__control:checked~label.sk-toggleable__label {background-color: #d4ebff;}#sk-container-id-1 input.sk-hidden--visually {border: 0;clip: rect(1px 1px 1px 1px);clip: rect(1px, 1px, 1px, 1px);height: 1px;margin: -1px;overflow: hidden;padding: 0;position: absolute;width: 1px;}#sk-container-id-1 div.sk-estimator {font-family: monospace;background-color: #f0f8ff;border: 1px dotted black;border-radius: 0.25em;box-sizing: border-box;margin-bottom: 0.5em;}#sk-container-id-1 div.sk-estimator:hover {background-color: #d4ebff;}#sk-container-id-1 div.sk-parallel-item::after {content: \"\";width: 100%;border-bottom: 1px solid gray;flex-grow: 1;}#sk-container-id-1 div.sk-label:hover label.sk-toggleable__label {background-color: #d4ebff;}#sk-container-id-1 div.sk-serial::before {content: \"\";position: absolute;border-left: 1px solid gray;box-sizing: border-box;top: 0;bottom: 0;left: 50%;z-index: 0;}#sk-container-id-1 div.sk-serial {display: flex;flex-direction: column;align-items: center;background-color: white;padding-right: 0.2em;padding-left: 0.2em;position: relative;}#sk-container-id-1 div.sk-item {position: relative;z-index: 1;}#sk-container-id-1 div.sk-parallel {display: flex;align-items: stretch;justify-content: center;background-color: white;position: relative;}#sk-container-id-1 div.sk-item::before, #sk-container-id-1 div.sk-parallel-item::before {content: \"\";position: absolute;border-left: 1px solid gray;box-sizing: border-box;top: 0;bottom: 0;left: 50%;z-index: -1;}#sk-container-id-1 div.sk-parallel-item {display: flex;flex-direction: column;z-index: 1;position: relative;background-color: white;}#sk-container-id-1 div.sk-parallel-item:first-child::after {align-self: flex-end;width: 50%;}#sk-container-id-1 div.sk-parallel-item:last-child::after {align-self: flex-start;width: 50%;}#sk-container-id-1 div.sk-parallel-item:only-child::after {width: 0;}#sk-container-id-1 div.sk-dashed-wrapped {border: 1px dashed gray;margin: 0 0.4em 0.5em 0.4em;box-sizing: border-box;padding-bottom: 0.4em;background-color: white;}#sk-container-id-1 div.sk-label label {font-family: monospace;font-weight: bold;display: inline-block;line-height: 1.2em;}#sk-container-id-1 div.sk-label-container {text-align: center;}#sk-container-id-1 div.sk-container {/* jupyter's `normalize.less` sets `[hidden] { display: none; }` but bootstrap.min.css set `[hidden] { display: none !important; }` so we also need the `!important` here to be able to override the default hidden behavior on the sphinx rendered scikit-learn.org. See: https://github.com/scikit-learn/scikit-learn/issues/21755 */display: inline-block !important;position: relative;}#sk-container-id-1 div.sk-text-repr-fallback {display: none;}</style><div id=\"sk-container-id-1\" class=\"sk-top-container\"><div class=\"sk-text-repr-fallback\"><pre>LogisticRegression()</pre><b>In a Jupyter environment, please rerun this cell to show the HTML representation or trust the notebook. <br />On GitHub, the HTML representation is unable to render, please try loading this page with nbviewer.org.</b></div><div class=\"sk-container\" hidden><div class=\"sk-item\"><div class=\"sk-estimator sk-toggleable\"><input class=\"sk-toggleable__control sk-hidden--visually\" id=\"sk-estimator-id-1\" type=\"checkbox\" checked><label for=\"sk-estimator-id-1\" class=\"sk-toggleable__label sk-toggleable__label-arrow\">LogisticRegression</label><div class=\"sk-toggleable__content\"><pre>LogisticRegression()</pre></div></div></div></div></div>"
      ],
      "text/plain": [
       "LogisticRegression()"
      ]
     },
     "execution_count": 26,
     "metadata": {},
     "output_type": "execute_result"
    }
   ],
   "source": [
    "# Model training (Logistic Regression)\n",
    "model = LogisticRegression()\n",
    "model.fit(X_train_tfidf, y_train)"
   ]
  },
  {
   "cell_type": "code",
   "execution_count": 27,
   "id": "4b758392",
   "metadata": {},
   "outputs": [
    {
     "name": "stdout",
     "output_type": "stream",
     "text": [
      "Accuracy: 1.00\n"
     ]
    }
   ],
   "source": [
    "# Model evaluation\n",
    "\n",
    "predictions = model.predict(X_test_tfidf)\n",
    "accuracy = accuracy_score(y_test, predictions)\n",
    "print(f\"Accuracy: {accuracy:.2f}\")"
   ]
  },
  {
   "cell_type": "code",
   "execution_count": 29,
   "id": "7c22a5dc",
   "metadata": {},
   "outputs": [
    {
     "name": "stdout",
     "output_type": "stream",
     "text": [
      "Text: This is not great and amazing | Predicted Sentiment: dislike\n",
      "Text: I dislike it | Predicted Sentiment: dislike\n"
     ]
    }
   ],
   "source": [
    "# Example predictions \n",
    "\n",
    "example_texts = [\"This is not great and amazing\", \"I dislike it\"]\n",
    "example_texts_tfidf = tfidf_vectorizer.transform(example_texts)\n",
    "example_predictions = model.predict(example_texts_tfidf)\n",
    "for text, prediction in zip(example_texts, example_predictions):\n",
    "    sentiment = \"like\" if prediction == 1 else \"dislike\"\n",
    "    print(f\"Text: {text} | Predicted Sentiment: {sentiment}\")"
   ]
  }
 ],
 "metadata": {
  "kernelspec": {
   "display_name": "Python 3 (ipykernel)",
   "language": "python",
   "name": "python3"
  },
  "language_info": {
   "codemirror_mode": {
    "name": "ipython",
    "version": 3
   },
   "file_extension": ".py",
   "mimetype": "text/x-python",
   "name": "python",
   "nbconvert_exporter": "python",
   "pygments_lexer": "ipython3",
   "version": "3.11.3"
  }
 },
 "nbformat": 4,
 "nbformat_minor": 5
}
